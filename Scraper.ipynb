{
 "cells": [
  {
   "cell_type": "code",
   "execution_count": 31,
   "metadata": {},
   "outputs": [],
   "source": [
    "from bs4 import BeautifulSoup\n",
    "import requests"
   ]
  },
  {
   "cell_type": "code",
   "execution_count": 32,
   "metadata": {},
   "outputs": [],
   "source": [
    "import numpy as np\n",
    "import pandas as pd"
   ]
  },
  {
   "cell_type": "code",
   "execution_count": 33,
   "metadata": {},
   "outputs": [],
   "source": [
    "url_tag = 'https://reklama5.mk/Search?city=1&cat=159&q=&f45_from=&f45_to=&f46_from=&f46_to=&priceFrom=&priceTo=&f48_from=&f48_to=&f47=&f10029=&f10030=&f10040=&sell=0&buy=0&rent=0&rent=1&includeforrent=0&trade=0&includeOld=0&includeNew=0&private=0&company=0&page=1&SortByPrice=0&zz=1&pageView='"
   ]
  },
  {
   "cell_type": "code",
   "execution_count": 34,
   "metadata": {},
   "outputs": [],
   "source": [
    "characteristics = []\n",
    "Price = []\n",
    "NumberOfRooms = []\n",
    "SquareFootage = []\n",
    "Heating = []\n",
    "Floor = []\n",
    "TypeOfApartment = []\n",
    "State = []\n",
    "Furnished = []\n",
    "Lift = []\n",
    "YearBuilt = []\n",
    "YearRenovated = []\n",
    "BalconiesNumber = []\n",
    "BathroomsNumber = []\n",
    "Basement = []\n",
    "Parking = []\n",
    "Orientation = []\n",
    "Address = []"
   ]
  },
  {
   "cell_type": "code",
   "execution_count": 35,
   "metadata": {},
   "outputs": [],
   "source": [
    "for k in range(0, 150):\n",
    "    url = requests.get(url_tag).text\n",
    "    soup = BeautifulSoup(url, 'lxml')\n",
    "    ad = soup.find_all(class_ = 'row ad-top-div')\n",
    "    for n in ad:\n",
    "        AdLink = 'https://reklama5.mk' + (n.find('a')['href'])\n",
    "        AdText = requests.get(AdLink).text\n",
    "        AdTxt = BeautifulSoup(AdText, 'lxml')\n",
    "        PriceTag = AdTxt.find(class_ = 'mb-0 defaultBlue')\n",
    "        Price.append(AdTxt.find(class_ = 'mb-0 defaultBlue').text.split()[0] + AdTxt.find(class_ = 'mb-0 defaultBlue').text.split()[1]) if PriceTag else Price.append('NaN') \n",
    "        for i in range(0, len(AdTxt.find_all('p', class_ = 'mb-1'))):\n",
    "            characteristics.append(AdTxt.find_all('p', class_ = 'mb-1')[i].text)\n",
    "        if 'Број на соби:' in characteristics: NumberOfRooms.append(characteristics[characteristics.index('Број на соби:') + 1])\n",
    "        else: NumberOfRooms.append('NaN')\n",
    "        if 'Квадратура:' in characteristics: SquareFootage.append(characteristics[characteristics.index('Квадратура:') + 1])\n",
    "        else: SquareFootage.append('NaN')\n",
    "        if 'Греење:' in characteristics: Heating.append(characteristics[characteristics.index('Греење:') + 1])\n",
    "        else: Heating.append('NaN')\n",
    "        if 'Спрат:' in characteristics: Floor.append(characteristics[characteristics.index('Спрат:') + 1])\n",
    "        else: Floor.append('NaN')\n",
    "        if 'Тип на станот:' in characteristics: TypeOfApartment.append(characteristics[characteristics.index('Тип на станот:') + 1])\n",
    "        else: TypeOfApartment.append('NaN')\n",
    "        if 'Состојба:' in characteristics: State.append(characteristics[characteristics.index('Состојба:') + 1])\n",
    "        else: State.append('NaN')\n",
    "        if 'Опрема:' in characteristics: Furnished.append(characteristics[characteristics.index('Опрема:') + 1])\n",
    "        else: Furnished.append('NaN')\n",
    "        if 'Лифт:' in characteristics: Lift.append(characteristics[characteristics.index('Лифт:') + 1])\n",
    "        else: Lift.append('NaN')\n",
    "        if 'Година на градба:' in characteristics: YearBuilt.append(characteristics[characteristics.index('Година на градба:') + 1])\n",
    "        else: YearBuilt.append('NaN')\n",
    "        if 'Година на реновирање:' in characteristics: YearRenovated.append(characteristics[characteristics.index('Година на реновирање:') + 1])\n",
    "        else: YearRenovated.append('NaN')\n",
    "        if 'Број на балкони:' in characteristics: BalconiesNumber.append(characteristics[characteristics.index('Број на балкони:') + 1])\n",
    "        else: BalconiesNumber.append('NaN')\n",
    "        if 'Број на бањи:' in characteristics: BathroomsNumber.append(characteristics[characteristics.index('Број на бањи:') + 1])\n",
    "        else: BathroomsNumber.append('NaN')\n",
    "        if 'Подрум:' in characteristics: Basement.append(characteristics[characteristics.index('Подрум:') + 1])\n",
    "        else: Basement.append('NaN')\n",
    "        if 'Број на паркинг/гаража:' in characteristics: Parking.append(characteristics[characteristics.index('Број на паркинг/гаража:') + 1])\n",
    "        else: Parking.append('NaN')\n",
    "        if 'Ориентација:' in characteristics: Orientation.append(characteristics[characteristics.index('Ориентација:') + 1])\n",
    "        else: Orientation.append('NaN')\n",
    "        if 'Адреса:' in characteristics: Address.append(characteristics[characteristics.index('Адреса:') + 1])\n",
    "        else: Address.append('NaN')\n",
    "        characteristics = []\n",
    "    url_tag = 'https://reklama5.mk' + soup.find_all(class_ = 'page-link')[-1]['href']"
   ]
  },
  {
   "cell_type": "code",
   "execution_count": 39,
   "metadata": {},
   "outputs": [
    {
     "data": {
      "text/plain": [
       "'/Search?city=1&cat=159&q=&f45_from=&f45_to=&f46_from=&f46_to=&priceFrom=&priceTo=&f48_from=&f48_to=&f47=&f10029=&f10030=&f10040=&sell=0&buy=0&rent=0&rent=1&includeforrent=0&trade=0&includeOld=0&includeNew=0&private=0&company=0&page=2&SortByPrice=0&zz=1&pageView='"
      ]
     },
     "execution_count": 39,
     "metadata": {},
     "output_type": "execute_result"
    }
   ],
   "source": [
    "soup.find_all(class_ = 'page-link')[-1]['href']"
   ]
  },
  {
   "cell_type": "code",
   "execution_count": 38,
   "metadata": {},
   "outputs": [],
   "source": [
    "df = pd.concat([pd.Series(Price), pd.Series(NumberOfRooms), pd.Series(SquareFootage), pd.Series(Heating), pd.Series(Floor), pd.Series(TypeOfApartment), pd.Series(State),\n",
    "          pd.Series(Furnished), pd.Series(Lift), pd.Series(YearBuilt), pd.Series(YearRenovated), pd.Series(BalconiesNumber), pd.Series(BathroomsNumber), pd.Series(Basement), \n",
    "          pd.Series(Parking), pd.Series(Orientation), pd.Series(Address)], axis = 1)"
   ]
  },
  {
   "cell_type": "code",
   "execution_count": 40,
   "metadata": {},
   "outputs": [],
   "source": [
    "df.to_csv('Apartments.csv')"
   ]
  }
 ],
 "metadata": {
  "kernelspec": {
   "display_name": "Python 3",
   "language": "python",
   "name": "python3"
  },
  "language_info": {
   "codemirror_mode": {
    "name": "ipython",
    "version": 3
   },
   "file_extension": ".py",
   "mimetype": "text/x-python",
   "name": "python",
   "nbconvert_exporter": "python",
   "pygments_lexer": "ipython3",
   "version": "3.11.2"
  },
  "orig_nbformat": 4
 },
 "nbformat": 4,
 "nbformat_minor": 2
}
